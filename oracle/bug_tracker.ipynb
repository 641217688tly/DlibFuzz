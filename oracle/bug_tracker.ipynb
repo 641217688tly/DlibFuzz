{
 "cells": [
  {
   "metadata": {},
   "cell_type": "markdown",
   "source": [
    "1. fuzzer/seeds/test_seeds/zero-shot/221/264_263_243/seed_4.py\n",
    "\n",
    "Executing seed file: /mnt/e/SoftwareCourses/DeepLearning/DlibFuzz/fuzzer/seeds/test_seeds/zero-shot/221/264_263_243/seed_4.py\n",
    "PyTorch code failed: Calculated padded input size per channel: (1 x 3). Kernel size: (2 x 2). Kernel size can't be greater than actual input size\n",
    "2024-09-08 18:21:31.212703: F ./tensorflow/core/util/tensor_format.h:427] Check failed: index >= 0 && index < num_total_dims Invalid index from the dimension: 3, 0, C\n",
    "/tmp/tmpm_hzyz4w: line 3: 56558 Aborted                 python /mnt/e/SoftwareCourses/DeepLearning/DlibFuzz/oracle/driver.py\n",
    "ERROR conda.cli.main_run:execute(125): `conda run python /mnt/e/SoftwareCourses/DeepLearning/DlibFuzz/oracle/driver.py` failed. (See above for error)\n",
    "\n",
    "问题仍然出现的原因是由于在 TensorFlow 代码中引发了一个底层的崩溃错误，而这个错误并没有通过 Python 的异常捕获机制被处理。TensorFlow 有时在底层（C++部分）遇到问题时，会导致整个进程直接崩溃（Aborted），而不是抛出 Python 异常。"
   ],
   "id": "6cffb9b83da87fe6"
  },
  {
   "cell_type": "code",
   "id": "initial_id",
   "metadata": {
    "collapsed": true,
    "jupyter": {
     "is_executing": true
    }
   },
   "source": [
    "import tensorflow\n",
    "import jax\n",
    "# Common variable values\n",
    "input_tensor = [[1.0, 2.0, 3.0]]\n",
    "kernel = [[0.5, 0.5], [0.5, 0.5]]\n",
    "\n",
    "# PyTorch\n",
    "import torch\n",
    "import torch.nn.functional as F\n",
    "\n",
    "input_pt = torch.tensor(input_tensor)\n",
    "kernel_pt = torch.tensor(kernel)\n",
    "output_pt = F.conv2d(input_pt.unsqueeze(0).unsqueeze(0), kernel_pt.unsqueeze(0).unsqueeze(0), stride=1)\n",
    "print(\"PyTorch Output:\", output_pt)\n",
    "\n",
    "# TensorFlow\n",
    "import tensorflow as tf\n",
    "\n",
    "input_tf = tf.constant(input_tensor, dtype=tf.float32)\n",
    "kernel_tf = tf.constant(kernel, dtype=tf.float32)\n",
    "output_tf = tf.nn.conv2d(tf.expand_dims(input_tf, axis=0), tf.expand_dims(kernel_tf, axis=0), strides=[1, 1, 1, 1], padding='VALID')\n",
    "print(\"TensorFlow Output:\", output_tf.numpy())\n",
    "\n",
    "# JAX\n",
    "import jax.numpy as jnp\n",
    "from jax import random\n",
    "\n",
    "input_jax = jnp.array(input_tensor)\n",
    "kernel_jax = jnp.array(kernel)\n",
    "output_jax = jax.lax.conv_general_dilated(jnp.expand_dims(input_jax, axis=0).reshape(1, 1, 1, 3), \n",
    "                                           jnp.expand_dims(kernel_jax, axis=0).reshape(1, 1, 2, 2), \n",
    "                                           (1, 1), \n",
    "                                           'VALID')\n",
    "print(\"JAX Output:\", output_jax)"
   ],
   "outputs": [],
   "execution_count": null
  }
 ],
 "metadata": {
  "kernelspec": {
   "display_name": "Python 3",
   "language": "python",
   "name": "python3"
  },
  "language_info": {
   "codemirror_mode": {
    "name": "ipython",
    "version": 2
   },
   "file_extension": ".py",
   "mimetype": "text/x-python",
   "name": "python",
   "nbconvert_exporter": "python",
   "pygments_lexer": "ipython2",
   "version": "2.7.6"
  }
 },
 "nbformat": 4,
 "nbformat_minor": 5
}
