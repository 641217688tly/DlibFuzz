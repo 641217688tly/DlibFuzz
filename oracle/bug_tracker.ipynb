{
 "cells": [
  {
   "metadata": {},
   "cell_type": "markdown",
   "source": [
    "1. fuzzer/seeds/test_seeds/zero-shot/221/264_263_243/seed_4.py\n",
    "\n",
    "Executing seed file: /mnt/e/SoftwareCourses/DeepLearning/DlibFuzz/fuzzer/seeds/test_seeds/zero-shot/221/264_263_243/seed_4.py\n",
    "PyTorch code failed: Calculated padded input size per channel: (1 x 3). Kernel size: (2 x 2). Kernel size can't be greater than actual input size\n",
    "2024-09-08 18:21:31.212703: F ./tensorflow/core/util/tensor_format.h:427] Check failed: index >= 0 && index < num_total_dims Invalid index from the dimension: 3, 0, C\n",
    "/tmp/tmpm_hzyz4w: line 3: 56558 Aborted                 python /mnt/e/SoftwareCourses/DeepLearning/DlibFuzz/oracle/driver.py\n",
    "ERROR conda.cli.main_run:execute(125): `conda run python /mnt/e/SoftwareCourses/DeepLearning/DlibFuzz/oracle/driver.py` failed. (See above for error)\n",
    "\n",
    "问题仍然出现的原因是由于在 TensorFlow 代码中引发了一个底层的崩溃错误，而这个错误并没有通过 Python 的异常捕获机制被处理。TensorFlow 有时在底层（C++部分）遇到问题时，会导致整个进程直接崩溃（Aborted），而不是抛出 Python 异常。"
   ],
   "id": "6cffb9b83da87fe6"
  },
  {
   "cell_type": "code",
   "id": "initial_id",
   "metadata": {
    "collapsed": true,
    "jupyter": {
     "is_executing": true
    },
    "ExecuteTime": {
     "start_time": "2024-09-19T08:18:23.031507Z"
    }
   },
   "source": [
    "import tensorflow\n",
    "import jax\n",
    "# Common variable values\n",
    "input_tensor = [[1.0, 2.0, 3.0]]\n",
    "kernel = [[0.5, 0.5], [0.5, 0.5]]\n",
    "\n",
    "# PyTorch\n",
    "# import torch\n",
    "# import torch.nn.functional as F\n",
    "# input_pt = torch.tensor(input_tensor)\n",
    "# kernel_pt = torch.tensor(kernel)\n",
    "# output_pt = F.conv2d(input_pt.unsqueeze(0).unsqueeze(0), kernel_pt.unsqueeze(0).unsqueeze(0), stride=1)\n",
    "# print(\"PyTorch Output:\", output_pt)\n",
    "\n",
    "# TensorFlow\n",
    "# import tensorflow as tf\n",
    "# input_tf = tf.constant(input_tensor, dtype=tf.float32)\n",
    "# kernel_tf = tf.constant(kernel, dtype=tf.float32)\n",
    "# output_tf = tf.nn.conv2d(tf.expand_dims(input_tf, axis=0), tf.expand_dims(kernel_tf, axis=0), strides=[1, 1, 1, 1], padding='VALID')\n",
    "# print(\"TensorFlow Output:\", output_tf.numpy())\n",
    "\n",
    "import tensorflow as tf\n",
    "input_tf = tf.constant(input_tensor, dtype=tf.float32)\n",
    "kernel_tf = tf.constant(kernel, dtype=tf.float32)\n",
    "output_tf = tf.nn.conv2d(input_tf, kernel_tf, strides=[1, 1, 1, 1], padding='VALID')\n",
    "print(\"TensorFlow Output:\", output_tf.numpy())\n",
    "\n",
    "\n",
    "# JAX\n",
    "# import jax.numpy as jnp\n",
    "# from jax import random\n",
    "# \n",
    "# input_jax = jnp.array(input_tensor)\n",
    "# kernel_jax = jnp.array(kernel)\n",
    "# output_jax = jax.lax.conv_general_dilated(jnp.expand_dims(input_jax, axis=0).reshape(1, 1, 1, 3), \n",
    "#                                            jnp.expand_dims(kernel_jax, axis=0).reshape(1, 1, 2, 2), \n",
    "#                                            (1, 1), \n",
    "#                                            'VALID')\n",
    "# print(\"JAX Output:\", output_jax)"
   ],
   "outputs": [],
   "execution_count": null
  },
  {
   "metadata": {
    "ExecuteTime": {
     "end_time": "2024-09-19T08:02:32.137333Z",
     "start_time": "2024-09-19T08:02:32.129117Z"
    }
   },
   "cell_type": "code",
   "source": [
    "\"\"\"\n",
    "tf v2.10.0\n",
    "/home/tly/Applications/Programming/Python/Anaconda3/bin/conda run -n DlibFuzz --no-capture-output python /mnt/e/1University/Research/DlibFuzz/Code/DlibFuzz/test.py \n",
    "2024-09-19 16:01:36.250878: I tensorflow/core/platform/cpu_feature_guard.cc:193] This TensorFlow binary is optimized with oneAPI Deep Neural Network Library (oneDNN) to use the following CPU instructions in performance-critical operations:  AVX2 AVX_VNNI FMA\n",
    "To enable them in other operations, rebuild TensorFlow with the appropriate compiler flags.\n",
    "2024-09-19 16:01:36.475524: I tensorflow/core/util/util.cc:169] oneDNN custom operations are on. You may see slightly different numerical results due to floating-point round-off errors from different computation orders. To turn them off, set the environment variable `TF_ENABLE_ONEDNN_OPTS=0`.\n",
    "2024-09-19 16:01:36.525903: W tensorflow/stream_executor/platform/default/dso_loader.cc:64] Could not load dynamic library 'libcudart.so.11.0'; dlerror: libcudart.so.11.0: cannot open shared object file: No such file or directory\n",
    "2024-09-19 16:01:36.525932: I tensorflow/stream_executor/cuda/cudart_stub.cc:29] Ignore above cudart dlerror if you do not have a GPU set up on your machine.\n",
    "2024-09-19 16:01:36.556926: E tensorflow/stream_executor/cuda/cuda_blas.cc:2981] Unable to register cuBLAS factory: Attempting to register factory for plugin cuBLAS when one has already been registered\n",
    "2024-09-19 16:01:37.568340: W tensorflow/stream_executor/platform/default/dso_loader.cc:64] Could not load dynamic library 'libnvinfer.so.7'; dlerror: libnvinfer.so.7: cannot open shared object file: No such file or directory\n",
    "2024-09-19 16:01:37.568438: W tensorflow/stream_executor/platform/default/dso_loader.cc:64] Could not load dynamic library 'libnvinfer_plugin.so.7'; dlerror: libnvinfer_plugin.so.7: cannot open shared object file: No such file or directory\n",
    "2024-09-19 16:01:37.568444: W tensorflow/compiler/tf2tensorrt/utils/py_utils.cc:38] TF-TRT Warning: Cannot dlopen some TensorRT libraries. If you would like to use Nvidia GPU with TensorRT, please make sure the missing libraries mentioned above are installed properly.\n",
    "2024-09-19 16:01:40.023101: I tensorflow/stream_executor/cuda/cuda_gpu_executor.cc:966] could not open file to read NUMA node: /sys/bus/pci/devices/0000:01:00.0/numa_node\n",
    "Your kernel may have been built without NUMA support.\n",
    "2024-09-19 16:01:40.023201: W tensorflow/stream_executor/platform/default/dso_loader.cc:64] Could not load dynamic library 'libcudart.so.11.0'; dlerror: libcudart.so.11.0: cannot open shared object file: No such file or directory\n",
    "2024-09-19 16:01:40.023241: W tensorflow/stream_executor/platform/default/dso_loader.cc:64] Could not load dynamic library 'libcublas.so.11'; dlerror: libcublas.so.11: cannot open shared object file: No such file or directory\n",
    "2024-09-19 16:01:40.023301: W tensorflow/stream_executor/platform/default/dso_loader.cc:64] Could not load dynamic library 'libcublasLt.so.11'; dlerror: libcublasLt.so.11: cannot open shared object file: No such file or directory\n",
    "2024-09-19 16:01:40.023341: W tensorflow/stream_executor/platform/default/dso_loader.cc:64] Could not load dynamic library 'libcufft.so.10'; dlerror: libcufft.so.10: cannot open shared object file: No such file or directory\n",
    "2024-09-19 16:01:40.023372: W tensorflow/stream_executor/platform/default/dso_loader.cc:64] Could not load dynamic library 'libcurand.so.10'; dlerror: libcurand.so.10: cannot open shared object file: No such file or directory\n",
    "2024-09-19 16:01:40.023399: W tensorflow/stream_executor/platform/default/dso_loader.cc:64] Could not load dynamic library 'libcusolver.so.11'; dlerror: libcusolver.so.11: cannot open shared object file: No such file or directory\n",
    "2024-09-19 16:01:40.023436: W tensorflow/stream_executor/platform/default/dso_loader.cc:64] Could not load dynamic library 'libcusparse.so.11'; dlerror: libcusparse.so.11: cannot open shared object file: No such file or directory\n",
    "2024-09-19 16:01:40.024829: W tensorflow/stream_executor/platform/default/dso_loader.cc:64] Could not load dynamic library 'libcudnn.so.8'; dlerror: libcudnn.so.8: cannot open shared object file: No such file or directory\n",
    "2024-09-19 16:01:40.024846: W tensorflow/core/common_runtime/gpu/gpu_device.cc:1934] Cannot dlopen some GPU libraries. Please make sure the missing libraries mentioned above are installed properly if you would like to use GPU. Follow the guide at https://www.tensorflow.org/install/gpu for how to download and setup the required libraries for your platform.\n",
    "Skipping registering GPU devices...\n",
    "2024-09-19 16:01:40.027063: I tensorflow/core/platform/cpu_feature_guard.cc:193] This TensorFlow binary is optimized with oneAPI Deep Neural Network Library (oneDNN) to use the following CPU instructions in performance-critical operations:  AVX2 AVX_VNNI FMA\n",
    "To enable them in other operations, rebuild TensorFlow with the appropriate compiler flags.\n",
    "2024-09-19 16:01:40.071951: F ./tensorflow/core/util/tensor_format.h:427] Check failed: index >= 0 && index < num_total_dims Invalid index from the dimension: 3, 0, C\n",
    "/tmp/tmp5ttn_yai: line 3: 33621 Aborted                 python /mnt/e/1University/Research/DlibFuzz/Code/DlibFuzz/test.py\n",
    "ERROR conda.cli.main_run:execute(124): `conda run python /mnt/e/1University/Research/DlibFuzz/Code/DlibFuzz/test.py` failed. (See above for error)\n",
    "\n",
    "进程已结束，退出代码为 134\n",
    "\n",
    "tf v2.17.0\n",
    "/home/tly/Applications/Programming/Python/Anaconda3/bin/conda run -n DlibFuzzNew --no-capture-output python /mnt/e/1University/Research/DlibFuzz/Code/DlibFuzz/test.py \n",
    "2024-09-19 15:59:50.515571: I tensorflow/core/util/port.cc:153] oneDNN custom operations are on. You may see slightly different numerical results due to floating-point round-off errors from different computation orders. To turn them off, set the environment variable `TF_ENABLE_ONEDNN_OPTS=0`.\n",
    "2024-09-19 15:59:50.516200: I external/local_xla/xla/tsl/cuda/cudart_stub.cc:32] Could not find cuda drivers on your machine, GPU will not be used.\n",
    "2024-09-19 15:59:50.518109: I external/local_xla/xla/tsl/cuda/cudart_stub.cc:32] Could not find cuda drivers on your machine, GPU will not be used.\n",
    "2024-09-19 15:59:50.523795: E external/local_xla/xla/stream_executor/cuda/cuda_fft.cc:485] Unable to register cuFFT factory: Attempting to register factory for plugin cuFFT when one has already been registered\n",
    "2024-09-19 15:59:50.533678: E external/local_xla/xla/stream_executor/cuda/cuda_dnn.cc:8454] Unable to register cuDNN factory: Attempting to register factory for plugin cuDNN when one has already been registered\n",
    "2024-09-19 15:59:50.536583: E external/local_xla/xla/stream_executor/cuda/cuda_blas.cc:1452] Unable to register cuBLAS factory: Attempting to register factory for plugin cuBLAS when one has already been registered\n",
    "2024-09-19 15:59:50.543519: I tensorflow/core/platform/cpu_feature_guard.cc:210] This TensorFlow binary is optimized to use available CPU instructions in performance-critical operations.\n",
    "To enable the following instructions: AVX2 AVX_VNNI FMA, in other operations, rebuild TensorFlow with the appropriate compiler flags.\n",
    "2024-09-19 15:59:51.275555: W tensorflow/compiler/tf2tensorrt/utils/py_utils.cc:38] TF-TRT Warning: Could not find TensorRT\n",
    "WARNING: All log messages before absl::InitializeLog() is called are written to STDERR\n",
    "I0000 00:00:1726732793.360358   32513 cuda_executor.cc:1001] could not open file to read NUMA node: /sys/bus/pci/devices/0000:01:00.0/numa_node\n",
    "Your kernel may have been built without NUMA support.\n",
    "2024-09-19 15:59:53.360897: W tensorflow/core/common_runtime/gpu/gpu_device.cc:2343] Cannot dlopen some GPU libraries. Please make sure the missing libraries mentioned above are installed properly if you would like to use GPU. Follow the guide at https://www.tensorflow.org/install/gpu for how to download and setup the required libraries for your platform.\n",
    "Skipping registering GPU devices...\n",
    "2024-09-19 15:59:53.388242: F ./tensorflow/core/util/tensor_format.h:428] Check failed: index >= 0 && index < num_total_dims Invalid index from the dimension: 3, 0, C\n",
    "/tmp/tmp_txd_1fw: line 3: 32513 Aborted                 python /mnt/e/1University/Research/DlibFuzz/Code/DlibFuzz/test.py\n",
    "ERROR conda.cli.main_run:execute(124): `conda run python /mnt/e/1University/Research/DlibFuzz/Code/DlibFuzz/test.py` failed. (See above for error)\n",
    "\n",
    "进程已结束，退出代码为 134\n",
    "\"\"\""
   ],
   "id": "ec5375ad0232f60e",
   "outputs": [
    {
     "data": {
      "text/plain": [
       "\"\\ntf v2.10.0\\n/home/tly/Applications/Programming/Python/Anaconda3/bin/conda run -n DlibFuzz --no-capture-output python /mnt/e/1University/Research/DlibFuzz/Code/DlibFuzz/test.py \\n2024-09-19 16:01:36.250878: I tensorflow/core/platform/cpu_feature_guard.cc:193] This TensorFlow binary is optimized with oneAPI Deep Neural Network Library (oneDNN) to use the following CPU instructions in performance-critical operations:  AVX2 AVX_VNNI FMA\\nTo enable them in other operations, rebuild TensorFlow with the appropriate compiler flags.\\n2024-09-19 16:01:36.475524: I tensorflow/core/util/util.cc:169] oneDNN custom operations are on. You may see slightly different numerical results due to floating-point round-off errors from different computation orders. To turn them off, set the environment variable `TF_ENABLE_ONEDNN_OPTS=0`.\\n2024-09-19 16:01:36.525903: W tensorflow/stream_executor/platform/default/dso_loader.cc:64] Could not load dynamic library 'libcudart.so.11.0'; dlerror: libcudart.so.11.0: cannot open shared object file: No such file or directory\\n2024-09-19 16:01:36.525932: I tensorflow/stream_executor/cuda/cudart_stub.cc:29] Ignore above cudart dlerror if you do not have a GPU set up on your machine.\\n2024-09-19 16:01:36.556926: E tensorflow/stream_executor/cuda/cuda_blas.cc:2981] Unable to register cuBLAS factory: Attempting to register factory for plugin cuBLAS when one has already been registered\\n2024-09-19 16:01:37.568340: W tensorflow/stream_executor/platform/default/dso_loader.cc:64] Could not load dynamic library 'libnvinfer.so.7'; dlerror: libnvinfer.so.7: cannot open shared object file: No such file or directory\\n2024-09-19 16:01:37.568438: W tensorflow/stream_executor/platform/default/dso_loader.cc:64] Could not load dynamic library 'libnvinfer_plugin.so.7'; dlerror: libnvinfer_plugin.so.7: cannot open shared object file: No such file or directory\\n2024-09-19 16:01:37.568444: W tensorflow/compiler/tf2tensorrt/utils/py_utils.cc:38] TF-TRT Warning: Cannot dlopen some TensorRT libraries. If you would like to use Nvidia GPU with TensorRT, please make sure the missing libraries mentioned above are installed properly.\\n2024-09-19 16:01:40.023101: I tensorflow/stream_executor/cuda/cuda_gpu_executor.cc:966] could not open file to read NUMA node: /sys/bus/pci/devices/0000:01:00.0/numa_node\\nYour kernel may have been built without NUMA support.\\n2024-09-19 16:01:40.023201: W tensorflow/stream_executor/platform/default/dso_loader.cc:64] Could not load dynamic library 'libcudart.so.11.0'; dlerror: libcudart.so.11.0: cannot open shared object file: No such file or directory\\n2024-09-19 16:01:40.023241: W tensorflow/stream_executor/platform/default/dso_loader.cc:64] Could not load dynamic library 'libcublas.so.11'; dlerror: libcublas.so.11: cannot open shared object file: No such file or directory\\n2024-09-19 16:01:40.023301: W tensorflow/stream_executor/platform/default/dso_loader.cc:64] Could not load dynamic library 'libcublasLt.so.11'; dlerror: libcublasLt.so.11: cannot open shared object file: No such file or directory\\n2024-09-19 16:01:40.023341: W tensorflow/stream_executor/platform/default/dso_loader.cc:64] Could not load dynamic library 'libcufft.so.10'; dlerror: libcufft.so.10: cannot open shared object file: No such file or directory\\n2024-09-19 16:01:40.023372: W tensorflow/stream_executor/platform/default/dso_loader.cc:64] Could not load dynamic library 'libcurand.so.10'; dlerror: libcurand.so.10: cannot open shared object file: No such file or directory\\n2024-09-19 16:01:40.023399: W tensorflow/stream_executor/platform/default/dso_loader.cc:64] Could not load dynamic library 'libcusolver.so.11'; dlerror: libcusolver.so.11: cannot open shared object file: No such file or directory\\n2024-09-19 16:01:40.023436: W tensorflow/stream_executor/platform/default/dso_loader.cc:64] Could not load dynamic library 'libcusparse.so.11'; dlerror: libcusparse.so.11: cannot open shared object file: No such file or directory\\n2024-09-19 16:01:40.024829: W tensorflow/stream_executor/platform/default/dso_loader.cc:64] Could not load dynamic library 'libcudnn.so.8'; dlerror: libcudnn.so.8: cannot open shared object file: No such file or directory\\n2024-09-19 16:01:40.024846: W tensorflow/core/common_runtime/gpu/gpu_device.cc:1934] Cannot dlopen some GPU libraries. Please make sure the missing libraries mentioned above are installed properly if you would like to use GPU. Follow the guide at https://www.tensorflow.org/install/gpu for how to download and setup the required libraries for your platform.\\nSkipping registering GPU devices...\\n2024-09-19 16:01:40.027063: I tensorflow/core/platform/cpu_feature_guard.cc:193] This TensorFlow binary is optimized with oneAPI Deep Neural Network Library (oneDNN) to use the following CPU instructions in performance-critical operations:  AVX2 AVX_VNNI FMA\\nTo enable them in other operations, rebuild TensorFlow with the appropriate compiler flags.\\n2024-09-19 16:01:40.071951: F ./tensorflow/core/util/tensor_format.h:427] Check failed: index >= 0 && index < num_total_dims Invalid index from the dimension: 3, 0, C\\n/tmp/tmp5ttn_yai: line 3: 33621 Aborted                 python /mnt/e/1University/Research/DlibFuzz/Code/DlibFuzz/test.py\\nERROR conda.cli.main_run:execute(124): `conda run python /mnt/e/1University/Research/DlibFuzz/Code/DlibFuzz/test.py` failed. (See above for error)\\n\\n进程已结束，退出代码为 134\\n\\ntf v2.17.0\\n/home/tly/Applications/Programming/Python/Anaconda3/bin/conda run -n DlibFuzzNew --no-capture-output python /mnt/e/1University/Research/DlibFuzz/Code/DlibFuzz/test.py \\n2024-09-19 15:59:50.515571: I tensorflow/core/util/port.cc:153] oneDNN custom operations are on. You may see slightly different numerical results due to floating-point round-off errors from different computation orders. To turn them off, set the environment variable `TF_ENABLE_ONEDNN_OPTS=0`.\\n2024-09-19 15:59:50.516200: I external/local_xla/xla/tsl/cuda/cudart_stub.cc:32] Could not find cuda drivers on your machine, GPU will not be used.\\n2024-09-19 15:59:50.518109: I external/local_xla/xla/tsl/cuda/cudart_stub.cc:32] Could not find cuda drivers on your machine, GPU will not be used.\\n2024-09-19 15:59:50.523795: E external/local_xla/xla/stream_executor/cuda/cuda_fft.cc:485] Unable to register cuFFT factory: Attempting to register factory for plugin cuFFT when one has already been registered\\n2024-09-19 15:59:50.533678: E external/local_xla/xla/stream_executor/cuda/cuda_dnn.cc:8454] Unable to register cuDNN factory: Attempting to register factory for plugin cuDNN when one has already been registered\\n2024-09-19 15:59:50.536583: E external/local_xla/xla/stream_executor/cuda/cuda_blas.cc:1452] Unable to register cuBLAS factory: Attempting to register factory for plugin cuBLAS when one has already been registered\\n2024-09-19 15:59:50.543519: I tensorflow/core/platform/cpu_feature_guard.cc:210] This TensorFlow binary is optimized to use available CPU instructions in performance-critical operations.\\nTo enable the following instructions: AVX2 AVX_VNNI FMA, in other operations, rebuild TensorFlow with the appropriate compiler flags.\\n2024-09-19 15:59:51.275555: W tensorflow/compiler/tf2tensorrt/utils/py_utils.cc:38] TF-TRT Warning: Could not find TensorRT\\nWARNING: All log messages before absl::InitializeLog() is called are written to STDERR\\nI0000 00:00:1726732793.360358   32513 cuda_executor.cc:1001] could not open file to read NUMA node: /sys/bus/pci/devices/0000:01:00.0/numa_node\\nYour kernel may have been built without NUMA support.\\n2024-09-19 15:59:53.360897: W tensorflow/core/common_runtime/gpu/gpu_device.cc:2343] Cannot dlopen some GPU libraries. Please make sure the missing libraries mentioned above are installed properly if you would like to use GPU. Follow the guide at https://www.tensorflow.org/install/gpu for how to download and setup the required libraries for your platform.\\nSkipping registering GPU devices...\\n2024-09-19 15:59:53.388242: F ./tensorflow/core/util/tensor_format.h:428] Check failed: index >= 0 && index < num_total_dims Invalid index from the dimension: 3, 0, C\\n/tmp/tmp_txd_1fw: line 3: 32513 Aborted                 python /mnt/e/1University/Research/DlibFuzz/Code/DlibFuzz/test.py\\nERROR conda.cli.main_run:execute(124): `conda run python /mnt/e/1University/Research/DlibFuzz/Code/DlibFuzz/test.py` failed. (See above for error)\\n\\n进程已结束，退出代码为 134\\n\""
      ]
     },
     "execution_count": 2,
     "metadata": {},
     "output_type": "execute_result"
    }
   ],
   "execution_count": 2
  },
  {
   "metadata": {
    "ExecuteTime": {
     "end_time": "2024-09-19T08:02:47.545191Z",
     "start_time": "2024-09-19T08:02:47.541648Z"
    }
   },
   "cell_type": "code",
   "source": [
    "\"\"\"\n",
    "tf v2.10.0\n",
    "2024-09-19 16:01:40.071951: F ./tensorflow/core/util/tensor_format.h:427] Check failed: index >= 0 && index < num_total_dims Invalid index from the dimension: 3, 0, C\n",
    "/tmp/tmp5ttn_yai: line 3: 33621 Aborted                 python /mnt/e/1University/Research/DlibFuzz/Code/DlibFuzz/test.py\n",
    "ERROR conda.cli.main_run:execute(124): `conda run python /mnt/e/1University/Research/DlibFuzz/Code/DlibFuzz/test.py` failed. (See above for error)\n",
    "\n",
    "进程已结束，退出代码为 134\n",
    "\n",
    "tf v2.17.0\n",
    "2024-09-19 15:59:53.388242: F ./tensorflow/core/util/tensor_format.h:428] Check failed: index >= 0 && index < num_total_dims Invalid index from the dimension: 3, 0, C\n",
    "/tmp/tmp_txd_1fw: line 3: 32513 Aborted                 python /mnt/e/1University/Research/DlibFuzz/Code/DlibFuzz/test.py\n",
    "ERROR conda.cli.main_run:execute(124): `conda run python /mnt/e/1University/Research/DlibFuzz/Code/DlibFuzz/test.py` failed. (See above for error)\n",
    "进程已结束，退出代码为 134\n",
    "\"\"\""
   ],
   "id": "7c490c60e1cfb469",
   "outputs": [
    {
     "data": {
      "text/plain": [
       "'\\n\\ntf v2.17.0\\n2024-09-19 15:59:53.388242: F ./tensorflow/core/util/tensor_format.h:428] Check failed: index >= 0 && index < num_total_dims Invalid index from the dimension: 3, 0, C\\n/tmp/tmp_txd_1fw: line 3: 32513 Aborted                 python /mnt/e/1University/Research/DlibFuzz/Code/DlibFuzz/test.py\\nERROR conda.cli.main_run:execute(124): `conda run python /mnt/e/1University/Research/DlibFuzz/Code/DlibFuzz/test.py` failed. (See above for error)\\n'"
      ]
     },
     "execution_count": 3,
     "metadata": {},
     "output_type": "execute_result"
    }
   ],
   "execution_count": 3
  },
  {
   "metadata": {},
   "cell_type": "code",
   "outputs": [],
   "execution_count": null,
   "source": "",
   "id": "53b6045d029d1d5"
  }
 ],
 "metadata": {
  "kernelspec": {
   "display_name": "Python 3",
   "language": "python",
   "name": "python3"
  },
  "language_info": {
   "codemirror_mode": {
    "name": "ipython",
    "version": 2
   },
   "file_extension": ".py",
   "mimetype": "text/x-python",
   "name": "python",
   "nbconvert_exporter": "python",
   "pygments_lexer": "ipython2",
   "version": "2.7.6"
  }
 },
 "nbformat": 4,
 "nbformat_minor": 5
}
